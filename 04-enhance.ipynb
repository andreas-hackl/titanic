{
 "cells": [
  {
   "cell_type": "code",
   "execution_count": 1,
   "id": "55288329",
   "metadata": {},
   "outputs": [
    {
     "name": "stdout",
     "output_type": "stream",
     "text": [
      "<class 'pandas.core.frame.DataFrame'>\n",
      "RangeIndex: 891 entries, 0 to 890\n",
      "Data columns (total 12 columns):\n",
      " #   Column       Non-Null Count  Dtype  \n",
      "---  ------       --------------  -----  \n",
      " 0   PassengerId  891 non-null    int64  \n",
      " 1   Survived     891 non-null    int64  \n",
      " 2   Pclass       891 non-null    int64  \n",
      " 3   Name         891 non-null    object \n",
      " 4   Sex          891 non-null    object \n",
      " 5   Age          714 non-null    float64\n",
      " 6   SibSp        891 non-null    int64  \n",
      " 7   Parch        891 non-null    int64  \n",
      " 8   Ticket       891 non-null    object \n",
      " 9   Fare         891 non-null    float64\n",
      " 10  Cabin        204 non-null    object \n",
      " 11  Embarked     889 non-null    object \n",
      "dtypes: float64(2), int64(5), object(5)\n",
      "memory usage: 83.7+ KB\n"
     ]
    }
   ],
   "source": [
    "import pandas as pd\n",
    "import numpy as np\n",
    "\n",
    "td = pd.read_csv('data/train.csv')\n",
    "td.info()"
   ]
  },
  {
   "cell_type": "code",
   "execution_count": 29,
   "id": "b932c5a9",
   "metadata": {},
   "outputs": [],
   "source": [
    "def enhance_csv(df: pd.DataFrame) -> pd.DataFrame:\n",
    "    df = df.copy()\n",
    "    df[\"CabinGroup\"] = df[\"Cabin\"].str[0].fillna(\"U\")  # take first letter of cabin\n",
    "    df['CabinPresent'] = (df['Cabin'].notna()).astype(int)\n",
    "    df['Embarked'] = df['Embarked'].fillna('S')  # fill NaN entries with most common value\n",
    "    df['FamilySize'] = df['SibSp'] + df['Parch'] + 1  # size of family aboard\n",
    "    df['IsAlone'] = (df['FamilySize'] == 1).astype(int)  # is the passenger alone?\n",
    "    df.fillna({\"Fare\": df['Fare'].median()}, inplace=True)  # fill NaN fare with median fare\n",
    "    df['FareBin'] = pd.qcut(df['Fare'], 4, labels=False)  # binning fare into quartiles\n",
    "    df['Title'] = df['Name'].str.extract(r' ([A-Za-z]+)\\.', expand=False)  # extract title from name\n",
    "    df['Title'] = df['Title'].replace(['Lady', 'Countess', 'Capt', 'Col', 'Don', 'Dr', 'Major', 'Rev', 'Sir'], 'Noble')\n",
    "    df['Title'] = df['Title'].fillna('Rare')\n",
    "\n",
    "    df[\"Age\"] = df.groupby(\"Title\")[\"Age\"].transform(lambda x: x.fillna(x.median()))  # fill NaN ages with median age of title group\n",
    "    df.fillna({\"Age\": df['Age'].median()}, inplace=True)  # fill any remaining NaN ages with overall median age\n",
    "    df['AgeGroup'] = pd.cut(df['Age'], bins=[0, 12, 20, 40, 60, 80], labels=['Child', 'Teenager', 'Adult', 'Senior', 'Elderly'])\n",
    "    return df"
   ]
  },
  {
   "cell_type": "code",
   "execution_count": 30,
   "id": "63393111",
   "metadata": {},
   "outputs": [
    {
     "name": "stdout",
     "output_type": "stream",
     "text": [
      "<class 'pandas.core.frame.DataFrame'>\n",
      "RangeIndex: 891 entries, 0 to 890\n",
      "Data columns (total 19 columns):\n",
      " #   Column        Non-Null Count  Dtype   \n",
      "---  ------        --------------  -----   \n",
      " 0   PassengerId   891 non-null    int64   \n",
      " 1   Survived      891 non-null    int64   \n",
      " 2   Pclass        891 non-null    int64   \n",
      " 3   Name          891 non-null    object  \n",
      " 4   Sex           891 non-null    object  \n",
      " 5   Age           891 non-null    float64 \n",
      " 6   SibSp         891 non-null    int64   \n",
      " 7   Parch         891 non-null    int64   \n",
      " 8   Ticket        891 non-null    object  \n",
      " 9   Fare          891 non-null    float64 \n",
      " 10  Cabin         204 non-null    object  \n",
      " 11  Embarked      891 non-null    object  \n",
      " 12  CabinGroup    891 non-null    object  \n",
      " 13  CabinPresent  891 non-null    int64   \n",
      " 14  FamilySize    891 non-null    int64   \n",
      " 15  IsAlone       891 non-null    int64   \n",
      " 16  FareBin       891 non-null    int64   \n",
      " 17  Title         891 non-null    object  \n",
      " 18  AgeGroup      891 non-null    category\n",
      "dtypes: category(1), float64(2), int64(9), object(7)\n",
      "memory usage: 126.5+ KB\n"
     ]
    }
   ],
   "source": [
    "df_enhanced = enhance_csv(td)\n",
    "df_enhanced.info()"
   ]
  },
  {
   "cell_type": "code",
   "execution_count": 31,
   "id": "3e543284",
   "metadata": {},
   "outputs": [],
   "source": [
    "def sex_array(df: pd.DataFrame) -> np.ndarray:\n",
    "    return df['Sex'].map({'male': 0, 'female': 1}).to_numpy()\n",
    "\n",
    "def pclass_array(df: pd.DataFrame) -> np.ndarray:\n",
    "    return (df['Pclass'].to_numpy() - 1)/2  # convert to 0-indexed\n",
    "\n",
    "def age_array(df: pd.DataFrame) -> np.ndarray:\n",
    "    return df['Age'].to_numpy()/80  # normalize age to [0, 1] range\n",
    "\n",
    "def fare_array(df: pd.DataFrame) -> np.ndarray:\n",
    "    return df['Fare'].to_numpy()/df['Fare'].max()  # normalize fare to [0, 1] range\n",
    "\n",
    "def is_alone_array(df: pd.DataFrame) -> np.ndarray:\n",
    "    return df['IsAlone'].to_numpy()\n",
    "\n",
    "def is_cabin_present_array(df: pd.DataFrame) -> np.ndarray:\n",
    "    return df['CabinPresent'].to_numpy()\n",
    "\n",
    "def title_array(df: pd.DataFrame) -> np.ndarray:\n",
    "    title_mapping = {title: idx for idx, title in enumerate(df['Title'].unique())}\n",
    "    return df['Title'].map(title_mapping).to_numpy()/len(title_mapping)  # normalize to [0, 1] range\n",
    "\n",
    "\n",
    "def create_matrix(df: pd.DataFrame) -> np.ndarray:\n",
    "    return np.column_stack((sex_array(df), pclass_array(df), age_array(df), fare_array(df), is_alone_array(df), is_cabin_present_array(df), title_array(df)))\n"
   ]
  },
  {
   "cell_type": "code",
   "execution_count": 32,
   "id": "6ea87a0b",
   "metadata": {},
   "outputs": [
    {
     "name": "stdout",
     "output_type": "stream",
     "text": [
      "86\n",
      "PassengerId: 0 NaN entries\n",
      "Pclass: 0 NaN entries\n",
      "Name: 0 NaN entries\n",
      "Sex: 0 NaN entries\n",
      "Age: 0 NaN entries\n",
      "SibSp: 0 NaN entries\n",
      "Parch: 0 NaN entries\n",
      "Ticket: 0 NaN entries\n",
      "Fare: 0 NaN entries\n",
      "Cabin: 327 NaN entries\n",
      "Embarked: 0 NaN entries\n",
      "CabinGroup: 0 NaN entries\n",
      "CabinPresent: 0 NaN entries\n",
      "FamilySize: 0 NaN entries\n",
      "IsAlone: 0 NaN entries\n",
      "FareBin: 0 NaN entries\n",
      "Title: 0 NaN entries\n",
      "AgeGroup: 0 NaN entries\n"
     ]
    },
    {
     "name": "stderr",
     "output_type": "stream",
     "text": [
      "/home/ahackl/.local/lib/python3.13/site-packages/numpy/lib/_nanfunctions_impl.py:1214: RuntimeWarning: Mean of empty slice\n",
      "  return np.nanmean(a, axis, out=out, keepdims=keepdims)\n"
     ]
    }
   ],
   "source": [
    "df_train = pd.read_csv('data/train.csv')\n",
    "df_train_enhanced = enhance_csv(df_train)\n",
    "X_train = create_matrix(df_train_enhanced)\n",
    "y_train = df_train_enhanced['Survived'].to_numpy()\n",
    "\n",
    "df_test = pd.read_csv('data/test.csv')\n",
    "print(df_test['Age'].isna().sum())  # check for NaN values in Age column\n",
    "df_test_enhanced = enhance_csv(df_test)\n",
    "for column in df_test_enhanced.columns:\n",
    "    print(f\"{column}: {df_test_enhanced[column].isna().sum()} NaN entries\")\n",
    "X_test = create_matrix(df_test_enhanced)"
   ]
  },
  {
   "cell_type": "code",
   "execution_count": 33,
   "id": "94e07505",
   "metadata": {},
   "outputs": [],
   "source": [
    "np.save('data/Xe_train.npy', X_train)\n",
    "np.save('data/ye_train.npy', y_train)\n",
    "np.save('data/Xe_test.npy', X_test)"
   ]
  },
  {
   "cell_type": "code",
   "execution_count": null,
   "id": "e892ce28",
   "metadata": {},
   "outputs": [],
   "source": []
  }
 ],
 "metadata": {
  "kernelspec": {
   "display_name": "Python 3",
   "language": "python",
   "name": "python3"
  },
  "language_info": {
   "codemirror_mode": {
    "name": "ipython",
    "version": 3
   },
   "file_extension": ".py",
   "mimetype": "text/x-python",
   "name": "python",
   "nbconvert_exporter": "python",
   "pygments_lexer": "ipython3",
   "version": "3.13.5"
  }
 },
 "nbformat": 4,
 "nbformat_minor": 5
}

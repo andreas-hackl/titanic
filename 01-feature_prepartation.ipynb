{
 "cells": [
  {
   "cell_type": "code",
   "execution_count": 3,
   "id": "31105892",
   "metadata": {},
   "outputs": [],
   "source": [
    "import pandas as pd\n",
    "import numpy as np"
   ]
  },
  {
   "cell_type": "code",
   "execution_count": 4,
   "id": "dfb393e5",
   "metadata": {},
   "outputs": [],
   "source": [
    "td = pd.read_csv('data/train.csv')"
   ]
  },
  {
   "cell_type": "code",
   "execution_count": 5,
   "id": "788d3411",
   "metadata": {},
   "outputs": [
    {
     "data": {
      "text/plain": [
       "Index(['PassengerId', 'Survived', 'Pclass', 'Name', 'Sex', 'Age', 'SibSp',\n",
       "       'Parch', 'Ticket', 'Fare', 'Cabin', 'Embarked'],\n",
       "      dtype='object')"
      ]
     },
     "execution_count": 5,
     "metadata": {},
     "output_type": "execute_result"
    }
   ],
   "source": [
    "td.columns"
   ]
  },
  {
   "cell_type": "code",
   "execution_count": 6,
   "id": "54bca538",
   "metadata": {},
   "outputs": [],
   "source": [
    "def convert_data(td):\n",
    "\n",
    "    n_features = 9 # ['Pclass', 'Sex', 'Age', 'SibSp', 'Parch', 'Ticket', 'Fare', 'Cabin', 'Embarked']\n",
    "\n",
    "    n_passengers = td.shape[0]\n",
    "\n",
    "    X = np.zeros((n_passengers, n_features))\n",
    "\n",
    "    X[:,0] = td['Pclass']/3  # normalize to [0,1]\n",
    "    X[:,1] = td['Sex'].map({'male': 0, 'female': 1})\n",
    "    X[:,2] = td['Age']/100  # normalize to [0,1]\n",
    "    X[:,2] = np.nan_to_num(X[:,2], nan=-1)  # replace NaN with a distinct value\n",
    "    X[:,3] = td['SibSp']/8  # normalize to [0,1]\n",
    "    X[:,4] = td['Parch']/6  # normalize to [0,1]\n",
    "\n",
    "    tickets = td['Ticket'].to_numpy()\n",
    "    unique_tickets, count = np.unique(tickets, return_counts=True)\n",
    "    ticket_dict = dict(zip(unique_tickets, count))\n",
    "\n",
    "    X[:,5] = np.array([ticket_dict[t] for t in tickets])/7  # normalize to [0,1]\n",
    "\n",
    "    max_fare = td['Fare'].max()\n",
    "    X[:,6] = td['Fare']/max_fare  # normalize to [0,1]\n",
    "    X[:,6] = np.nan_to_num(X[:,2], nan=-1)\n",
    "\n",
    "    X[:,7] = td['Cabin'].isna()  # 0 if no cabin info, else 1\n",
    "\n",
    "    X[:,8] = td['Embarked'].map({'C':0, 'Q':0.5, 'S':1})\n",
    "    X[:,8] = np.nan_to_num(X[:,8], nan=-1)  # replace NaN with a distinct value\n",
    "\n",
    "    return X"
   ]
  },
  {
   "cell_type": "code",
   "execution_count": 7,
   "id": "cffd5250",
   "metadata": {},
   "outputs": [],
   "source": [
    "X_train = convert_data(td)\n",
    "X_test = convert_data(pd.read_csv('data/test.csv'))"
   ]
  },
  {
   "cell_type": "code",
   "execution_count": 8,
   "id": "0c5529ba",
   "metadata": {},
   "outputs": [],
   "source": [
    "y_train = td['Survived'].to_numpy()"
   ]
  },
  {
   "cell_type": "code",
   "execution_count": 9,
   "id": "bd44404f",
   "metadata": {},
   "outputs": [],
   "source": [
    "np.save(\"data/X_train.npy\", X_train)\n",
    "np.save(\"data/X_test.npy\", X_test)\n",
    "np.save(\"data/y_train.npy\", y_train)"
   ]
  },
  {
   "cell_type": "code",
   "execution_count": 31,
   "id": "8829adc3",
   "metadata": {},
   "outputs": [],
   "source": [
    "def convert_data_version2(td):\n",
    "\n",
    "    n_features = 9 # ['Pclass', 'Sex', 'Age', 'SibSp', 'Parch', 'Ticket', 'Fare', 'Cabin', 'Embarked']\n",
    "\n",
    "    n_passengers = td.shape[0]\n",
    "\n",
    "    X = np.zeros((n_passengers, n_features))\n",
    "\n",
    "    X[:,0] = td['Pclass']/3  # normalize to [0,1]\n",
    "    X[:,1] = td['Sex'].map({'male': 0, 'female': 1})\n",
    "    X[:,2] = td['Age']  \n",
    "\n",
    "    mask = np.isnan(X[:,2])\n",
    "    names = td['Name'].to_numpy()\n",
    "\n",
    "    mean_ages = pd.read_csv('data/title_mean_ages.csv')\n",
    "\n",
    "    titles = mean_ages['Titles'].to_numpy()\n",
    "    ages = mean_ages['Mean Age'].to_numpy()\n",
    "\n",
    "    for i, name in enumerate(names):\n",
    "        if np.isnan(X[:,2][i]):  \n",
    "            for title, age in zip(titles, ages):\n",
    "                if title in name:\n",
    "                    X[:,2][i] = age\n",
    "                    break\n",
    "    \n",
    "\n",
    "    X[:,2] = X[:,2]/100  # normalize to [0,1]\n",
    "\n",
    "\n",
    "    X[:,3] = td['SibSp']/8  # normalize to [0,1]\n",
    "    X[:,4] = td['Parch']/6  # normalize to [0,1]\n",
    "\n",
    "    tickets = td['Ticket'].to_numpy()\n",
    "    unique_tickets, count = np.unique(tickets, return_counts=True)\n",
    "    ticket_dict = dict(zip(unique_tickets, count))\n",
    "\n",
    "    X[:,5] = np.array([ticket_dict[t] for t in tickets])/7  # normalize to [0,1]\n",
    "\n",
    "    max_fare = td['Fare'].max()\n",
    "    X[:,6] = td['Fare']/max_fare  # normalize to [0,1]\n",
    "    X[:,6] = np.nan_to_num(X[:,2], nan=-1)\n",
    "\n",
    "    X[:,7] = td['Cabin'].isna()  # 0 if no cabin info, else 1\n",
    "\n",
    "    X[:,8] = td['Embarked'].map({'C':0, 'Q':0.5, 'S':1})\n",
    "    X[:,8] = np.nan_to_num(X[:,8], nan=-1)  # replace NaN with a distinct value\n",
    "\n",
    "    return X"
   ]
  },
  {
   "cell_type": "code",
   "execution_count": 32,
   "id": "f89196a9",
   "metadata": {},
   "outputs": [],
   "source": [
    "X_train = convert_data_version2(td)\n",
    "X_test = convert_data_version2(pd.read_csv('data/test.csv'))\n",
    "\n",
    "np.save(\"data/X_train2.npy\", X_train)\n",
    "np.save(\"data/X_test2.npy\", X_test)"
   ]
  },
  {
   "cell_type": "code",
   "execution_count": null,
   "id": "8a0b133c",
   "metadata": {},
   "outputs": [],
   "source": []
  }
 ],
 "metadata": {
  "kernelspec": {
   "display_name": "Python 3",
   "language": "python",
   "name": "python3"
  },
  "language_info": {
   "codemirror_mode": {
    "name": "ipython",
    "version": 3
   },
   "file_extension": ".py",
   "mimetype": "text/x-python",
   "name": "python",
   "nbconvert_exporter": "python",
   "pygments_lexer": "ipython3",
   "version": "3.13.5"
  }
 },
 "nbformat": 4,
 "nbformat_minor": 5
}
